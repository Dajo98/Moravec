{
  "nbformat": 4,
  "nbformat_minor": 0,
  "metadata": {
    "colab": {
      "name": "Ejercicios-Tensores.ipynb",
      "provenance": [],
      "collapsed_sections": [],
      "authorship_tag": "ABX9TyNolFkh29r9FKVDm/oWXl4w",
      "include_colab_link": true
    },
    "kernelspec": {
      "name": "python3",
      "display_name": "Python 3"
    },
    "language_info": {
      "name": "python"
    }
  },
  "cells": [
    {
      "cell_type": "markdown",
      "metadata": {
        "id": "view-in-github",
        "colab_type": "text"
      },
      "source": [
        "<a href=\"https://colab.research.google.com/github/milioe/Moravec/blob/main/Ejercicios_Tensores.ipynb\" target=\"_parent\"><img src=\"https://colab.research.google.com/assets/colab-badge.svg\" alt=\"Open In Colab\"/></a>"
      ]
    },
    {
      "cell_type": "markdown",
      "source": [
        "# 🛠 Exercises"
      ],
      "metadata": {
        "id": "C0F7nC-79S0O"
      }
    },
    {
      "cell_type": "markdown",
      "source": [
        "## 1. Create a vector, scalar, matrix and tensor with values of your choosing using tf.constant()."
      ],
      "metadata": {
        "id": "xoBxFPnV9VRF"
      }
    },
    {
      "cell_type": "code",
      "source": [
        "# Scalar\n"
      ],
      "metadata": {
        "id": "RCEKAYKy9VU4"
      },
      "execution_count": null,
      "outputs": []
    },
    {
      "cell_type": "code",
      "source": [
        "# Vector\n"
      ],
      "metadata": {
        "id": "CXuUjOxb9VYO"
      },
      "execution_count": null,
      "outputs": []
    },
    {
      "cell_type": "code",
      "source": [
        "# Matrix \n"
      ],
      "metadata": {
        "id": "WdbVgcdE9VbP"
      },
      "execution_count": null,
      "outputs": []
    },
    {
      "cell_type": "code",
      "source": [
        "# Tensor \n"
      ],
      "metadata": {
        "id": "Y1e1PpMv9Vd-"
      },
      "execution_count": null,
      "outputs": []
    },
    {
      "cell_type": "markdown",
      "source": [
        "## 2. Find the shape, rank and size of the tensors you created in 1."
      ],
      "metadata": {
        "id": "buSdH5eQ-_dx"
      }
    },
    {
      "cell_type": "code",
      "source": [
        "# Shape, Rank and size of scalar\n"
      ],
      "metadata": {
        "id": "FGlstKps-_ht"
      },
      "execution_count": null,
      "outputs": []
    },
    {
      "cell_type": "code",
      "source": [
        "# Shape, Rank and size of vector\n"
      ],
      "metadata": {
        "id": "OMUewVXz-_mW"
      },
      "execution_count": null,
      "outputs": []
    },
    {
      "cell_type": "code",
      "source": [
        "# Shape, Rank and size of matrix\n"
      ],
      "metadata": {
        "id": "_7vWBALT-_qb"
      },
      "execution_count": null,
      "outputs": []
    },
    {
      "cell_type": "code",
      "source": [
        "# Shape, Rank and size of tensor\n"
      ],
      "metadata": {
        "id": "0W8F2O4O-_uN"
      },
      "execution_count": null,
      "outputs": []
    },
    {
      "cell_type": "markdown",
      "source": [
        "## 3. Create two tensors containing random values between 0 and 1 with shape `[5, 300]`."
      ],
      "metadata": {
        "id": "_hVi769A-_yO"
      }
    },
    {
      "cell_type": "code",
      "source": [
        "# Tensor 1 \n"
      ],
      "metadata": {
        "id": "C-KH9b1z-_2R"
      },
      "execution_count": null,
      "outputs": []
    },
    {
      "cell_type": "code",
      "source": [
        "# Tensor 2\n"
      ],
      "metadata": {
        "id": "bw2MeVze-_6U"
      },
      "execution_count": null,
      "outputs": []
    },
    {
      "cell_type": "markdown",
      "source": [
        "## 4. Multiply the two tensors you created in 3 using matrix multiplication"
      ],
      "metadata": {
        "id": "91o2D6Et_V_e"
      }
    },
    {
      "cell_type": "code",
      "source": [
        "# Multiplication \n"
      ],
      "metadata": {
        "id": "0ktkUldb_WDd"
      },
      "execution_count": null,
      "outputs": []
    },
    {
      "cell_type": "markdown",
      "source": [
        "## 5. Multiply the two tensors you created in 3 using dot product."
      ],
      "metadata": {
        "id": "guH9ByTo_WHA"
      }
    },
    {
      "cell_type": "code",
      "source": [
        "# Dot product\n"
      ],
      "metadata": {
        "id": "scBjuSKl_WKn"
      },
      "execution_count": null,
      "outputs": []
    },
    {
      "cell_type": "markdown",
      "source": [
        "## 6. Create a tensor with random values between 0 and 1 with shape `[224, 224, 3]`."
      ],
      "metadata": {
        "id": "quWlvzeD_WOj"
      }
    },
    {
      "cell_type": "code",
      "source": [
        "# Random Tensor\n"
      ],
      "metadata": {
        "id": "0TCezEJ3AFgC"
      },
      "execution_count": 1,
      "outputs": []
    },
    {
      "cell_type": "markdown",
      "source": [
        "## 7. Find the min and max values of the tensor you created in 6."
      ],
      "metadata": {
        "id": "r8o56xSR_WRj"
      }
    },
    {
      "cell_type": "code",
      "source": [
        "# Min \n"
      ],
      "metadata": {
        "id": "eDObaI7n__H6"
      },
      "execution_count": null,
      "outputs": []
    },
    {
      "cell_type": "code",
      "source": [
        "# Max\n"
      ],
      "metadata": {
        "id": "5myxAf_S__MB"
      },
      "execution_count": null,
      "outputs": []
    },
    {
      "cell_type": "markdown",
      "source": [
        "## 8. Created a tensor with random values of shape [1, 224, 224, 3] then squeeze it to change the shape to [224, 224, 3]."
      ],
      "metadata": {
        "id": "btbd_TZhAKUP"
      }
    },
    {
      "cell_type": "code",
      "source": [
        "# Create \n"
      ],
      "metadata": {
        "id": "rRSvUt79AKa5"
      },
      "execution_count": null,
      "outputs": []
    },
    {
      "cell_type": "code",
      "source": [
        "# Squeeze\n"
      ],
      "metadata": {
        "id": "vTE4nPdCARnP"
      },
      "execution_count": null,
      "outputs": []
    },
    {
      "cell_type": "markdown",
      "source": [
        "## 9. Create a tensor with shape `[10]` using your own choice of values, then find the index which has the maximum value."
      ],
      "metadata": {
        "id": "_M7QILD8ARrl"
      }
    },
    {
      "cell_type": "code",
      "source": [
        "# Tensor\n"
      ],
      "metadata": {
        "id": "19ckIuEVARvF"
      },
      "execution_count": null,
      "outputs": []
    },
    {
      "cell_type": "markdown",
      "source": [
        "## 10. One-hot encode the tensor you created in 9."
      ],
      "metadata": {
        "id": "subFS1kG__QD"
      }
    },
    {
      "cell_type": "code",
      "source": [
        "# One Hot Encoding (Hint: Use Scikit-learn library. Documentation https://scikit-learn.org/stable/modules/generated/sklearn.preprocessing.OneHotEncoder.html)\n",
        "\n"
      ],
      "metadata": {
        "id": "BmAVqzfD-_-V"
      },
      "execution_count": null,
      "outputs": []
    },
    {
      "cell_type": "code",
      "source": [
        ""
      ],
      "metadata": {
        "id": "EmCNviChAZfW"
      },
      "execution_count": null,
      "outputs": []
    },
    {
      "cell_type": "code",
      "source": [
        ""
      ],
      "metadata": {
        "id": "Q2KH_UgFAZjI"
      },
      "execution_count": null,
      "outputs": []
    }
  ]
}